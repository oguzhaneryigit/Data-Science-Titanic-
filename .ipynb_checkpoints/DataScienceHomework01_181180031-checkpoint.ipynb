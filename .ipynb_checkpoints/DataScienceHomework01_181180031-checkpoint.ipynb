{
 "cells": [
  {
   "cell_type": "code",
   "execution_count": 1,
   "id": "3fba6ceb",
   "metadata": {},
   "outputs": [],
   "source": [
    "#libraries and dataframe\n",
    "import pandas as pd\n",
    "import numpy as np\n",
    "import matplotlib.pyplot as plt\n",
    "import seaborn as sns\n",
    "\n",
    "df = pd.read_csv(\"train.csv\")"
   ]
  },
  {
   "cell_type": "code",
   "execution_count": 2,
   "id": "0462c63e",
   "metadata": {},
   "outputs": [
    {
     "data": {
      "text/html": [
       "<div>\n",
       "<style scoped>\n",
       "    .dataframe tbody tr th:only-of-type {\n",
       "        vertical-align: middle;\n",
       "    }\n",
       "\n",
       "    .dataframe tbody tr th {\n",
       "        vertical-align: top;\n",
       "    }\n",
       "\n",
       "    .dataframe thead th {\n",
       "        text-align: right;\n",
       "    }\n",
       "</style>\n",
       "<table border=\"1\" class=\"dataframe\">\n",
       "  <thead>\n",
       "    <tr style=\"text-align: right;\">\n",
       "      <th></th>\n",
       "      <th>PassengerId</th>\n",
       "      <th>Survived</th>\n",
       "      <th>Pclass</th>\n",
       "      <th>Name</th>\n",
       "      <th>Sex</th>\n",
       "      <th>Age</th>\n",
       "      <th>SibSp</th>\n",
       "      <th>Parch</th>\n",
       "      <th>Ticket</th>\n",
       "      <th>Fare</th>\n",
       "      <th>Cabin</th>\n",
       "      <th>Embarked</th>\n",
       "    </tr>\n",
       "  </thead>\n",
       "  <tbody>\n",
       "    <tr>\n",
       "      <th>885</th>\n",
       "      <td>886</td>\n",
       "      <td>0</td>\n",
       "      <td>3</td>\n",
       "      <td>Rice, Mrs. William (Margaret Norton)</td>\n",
       "      <td>female</td>\n",
       "      <td>39.0</td>\n",
       "      <td>0</td>\n",
       "      <td>5</td>\n",
       "      <td>382652</td>\n",
       "      <td>29.125</td>\n",
       "      <td>NaN</td>\n",
       "      <td>Q</td>\n",
       "    </tr>\n",
       "    <tr>\n",
       "      <th>886</th>\n",
       "      <td>887</td>\n",
       "      <td>0</td>\n",
       "      <td>2</td>\n",
       "      <td>Montvila, Rev. Juozas</td>\n",
       "      <td>male</td>\n",
       "      <td>27.0</td>\n",
       "      <td>0</td>\n",
       "      <td>0</td>\n",
       "      <td>211536</td>\n",
       "      <td>13.000</td>\n",
       "      <td>NaN</td>\n",
       "      <td>S</td>\n",
       "    </tr>\n",
       "    <tr>\n",
       "      <th>887</th>\n",
       "      <td>888</td>\n",
       "      <td>1</td>\n",
       "      <td>1</td>\n",
       "      <td>Graham, Miss. Margaret Edith</td>\n",
       "      <td>female</td>\n",
       "      <td>19.0</td>\n",
       "      <td>0</td>\n",
       "      <td>0</td>\n",
       "      <td>112053</td>\n",
       "      <td>30.000</td>\n",
       "      <td>B42</td>\n",
       "      <td>S</td>\n",
       "    </tr>\n",
       "    <tr>\n",
       "      <th>888</th>\n",
       "      <td>889</td>\n",
       "      <td>0</td>\n",
       "      <td>3</td>\n",
       "      <td>Johnston, Miss. Catherine Helen \"Carrie\"</td>\n",
       "      <td>female</td>\n",
       "      <td>NaN</td>\n",
       "      <td>1</td>\n",
       "      <td>2</td>\n",
       "      <td>W./C. 6607</td>\n",
       "      <td>23.450</td>\n",
       "      <td>NaN</td>\n",
       "      <td>S</td>\n",
       "    </tr>\n",
       "    <tr>\n",
       "      <th>889</th>\n",
       "      <td>890</td>\n",
       "      <td>1</td>\n",
       "      <td>1</td>\n",
       "      <td>Behr, Mr. Karl Howell</td>\n",
       "      <td>male</td>\n",
       "      <td>26.0</td>\n",
       "      <td>0</td>\n",
       "      <td>0</td>\n",
       "      <td>111369</td>\n",
       "      <td>30.000</td>\n",
       "      <td>C148</td>\n",
       "      <td>C</td>\n",
       "    </tr>\n",
       "    <tr>\n",
       "      <th>890</th>\n",
       "      <td>891</td>\n",
       "      <td>0</td>\n",
       "      <td>3</td>\n",
       "      <td>Dooley, Mr. Patrick</td>\n",
       "      <td>male</td>\n",
       "      <td>32.0</td>\n",
       "      <td>0</td>\n",
       "      <td>0</td>\n",
       "      <td>370376</td>\n",
       "      <td>7.750</td>\n",
       "      <td>NaN</td>\n",
       "      <td>Q</td>\n",
       "    </tr>\n",
       "  </tbody>\n",
       "</table>\n",
       "</div>"
      ],
      "text/plain": [
       "     PassengerId  Survived  Pclass                                      Name  \\\n",
       "885          886         0       3      Rice, Mrs. William (Margaret Norton)   \n",
       "886          887         0       2                     Montvila, Rev. Juozas   \n",
       "887          888         1       1              Graham, Miss. Margaret Edith   \n",
       "888          889         0       3  Johnston, Miss. Catherine Helen \"Carrie\"   \n",
       "889          890         1       1                     Behr, Mr. Karl Howell   \n",
       "890          891         0       3                       Dooley, Mr. Patrick   \n",
       "\n",
       "        Sex   Age  SibSp  Parch      Ticket    Fare Cabin Embarked  \n",
       "885  female  39.0      0      5      382652  29.125   NaN        Q  \n",
       "886    male  27.0      0      0      211536  13.000   NaN        S  \n",
       "887  female  19.0      0      0      112053  30.000   B42        S  \n",
       "888  female   NaN      1      2  W./C. 6607  23.450   NaN        S  \n",
       "889    male  26.0      0      0      111369  30.000  C148        C  \n",
       "890    male  32.0      0      0      370376   7.750   NaN        Q  "
      ]
     },
     "execution_count": 2,
     "metadata": {},
     "output_type": "execute_result"
    }
   ],
   "source": [
    "#question 1\n",
    "df.tail(6)"
   ]
  },
  {
   "cell_type": "code",
   "execution_count": 3,
   "id": "9edee8ec",
   "metadata": {},
   "outputs": [
    {
     "data": {
      "text/plain": [
       "Index(['PassengerId', 'Survived', 'Pclass', 'Name', 'Sex', 'Age', 'SibSp',\n",
       "       'Parch', 'Ticket', 'Fare', 'Cabin', 'Embarked'],\n",
       "      dtype='object')"
      ]
     },
     "execution_count": 3,
     "metadata": {},
     "output_type": "execute_result"
    }
   ],
   "source": [
    "#question 2\n",
    "df.columns[0:]"
   ]
  },
  {
   "cell_type": "code",
   "execution_count": null,
   "id": "b7d5e522",
   "metadata": {},
   "outputs": [],
   "source": []
  },
  {
   "cell_type": "code",
   "execution_count": 4,
   "id": "7fa4f3ce",
   "metadata": {},
   "outputs": [
    {
     "name": "stdout",
     "output_type": "stream",
     "text": [
      "size  10692\n",
      "dimensions  2\n"
     ]
    }
   ],
   "source": [
    "#question 3\n",
    "print(\"size \",df.size)\n",
    "print(\"dimensions \",df.ndim)\n"
   ]
  },
  {
   "cell_type": "code",
   "execution_count": 5,
   "id": "b4375e98",
   "metadata": {},
   "outputs": [],
   "source": [
    "# that means we have 2 dimensional table\n",
    "# and we also have 10692 values, nan values included"
   ]
  },
  {
   "cell_type": "code",
   "execution_count": 6,
   "id": "8c19dee5",
   "metadata": {},
   "outputs": [
    {
     "name": "stdout",
     "output_type": "stream",
     "text": [
      "PassengerId      0\n",
      "Survived         0\n",
      "Pclass           0\n",
      "Name             0\n",
      "Sex              0\n",
      "Age            177\n",
      "SibSp            0\n",
      "Parch            0\n",
      "Ticket           0\n",
      "Fare             0\n",
      "Cabin          687\n",
      "Embarked         2\n",
      "dtype: int64\n"
     ]
    }
   ],
   "source": [
    "#question 4\n",
    "print(df.isnull().sum())"
   ]
  },
  {
   "cell_type": "code",
   "execution_count": 7,
   "id": "b6d424ac",
   "metadata": {},
   "outputs": [],
   "source": [
    "# there is empty values Age Cabin and Embarked properties"
   ]
  },
  {
   "cell_type": "code",
   "execution_count": 8,
   "id": "eb9a463d",
   "metadata": {},
   "outputs": [
    {
     "name": "stdout",
     "output_type": "stream",
     "text": [
      "891\n"
     ]
    },
    {
     "data": {
      "image/png": "[encoded data removed]",
      "text/plain": [
       "<Figure size 432x288 with 1 Axes>"
      ]
     },
     "metadata": {},
     "output_type": "display_data"
    }
   ],
   "source": [
    "#question 5\n",
    "class1= df[df[\"Pclass\"]==1].count()[1]\n",
    "class2= df[df[\"Pclass\"]==2].count()[1]\n",
    "class3= df[df[\"Pclass\"]==3].count()[1]\n",
    "totalData=df.count()[1]\n",
    "\n",
    "print(totalData)\n",
    "plt.pie([class1/totalData,class2/totalData,class3/totalData],labels=[\"rate of class 1\",\"rate of class 2\",\"rate of class 3\"],autopct='%1.1f%%')\n",
    "plt.show()\n"
   ]
  },
  {
   "cell_type": "code",
   "execution_count": 9,
   "id": "3363d7db",
   "metadata": {},
   "outputs": [],
   "source": [
    "# most of the ship was class 3 passanger\n",
    "# there are more first class than second class"
   ]
  },
  {
   "cell_type": "code",
   "execution_count": 10,
   "id": "fb9f15a7",
   "metadata": {},
   "outputs": [
    {
     "name": "stdout",
     "output_type": "stream",
     "text": [
      "549\n",
      "342\n"
     ]
    },
    {
     "data": {
      "image/png": "[encoded data removed]",
      "text/plain": [
       "<Figure size 432x288 with 1 Axes>"
      ]
     },
     "metadata": {
      "needs_background": "light"
     },
     "output_type": "display_data"
    }
   ],
   "source": [
    "#question 6\n",
    "surviveds = df[df[\"Survived\"]==1].count()[\"Survived\"]\n",
    "died = df[df[\"Survived\"]==0].count()[\"Survived\"]\n",
    "\n",
    "print(died)\n",
    "print(surviveds)\n",
    "\n",
    "\n",
    "xAxis = ['survived', 'did not survived']\n",
    "yAxis = [ (surviveds) , (died) ]\n",
    "plt.bar(xAxis,yAxis)\n",
    "plt.show()"
   ]
  },
  {
   "cell_type": "code",
   "execution_count": 11,
   "id": "de6afab7",
   "metadata": {},
   "outputs": [],
   "source": [
    "# survivors in minority"
   ]
  },
  {
   "cell_type": "code",
   "execution_count": 12,
   "id": "4befad88",
   "metadata": {
    "scrolled": false
   },
   "outputs": [
    {
     "data": {
      "image/png": "[encoded data removed]",
      "text/plain": [
       "<Figure size 432x288 with 1 Axes>"
      ]
     },
     "metadata": {},
     "output_type": "display_data"
    },
    {
     "data": {
      "image/png": "[encoded data removed]",
      "text/plain": [
       "<Figure size 432x288 with 1 Axes>"
      ]
     },
     "metadata": {},
     "output_type": "display_data"
    },
    {
     "data": {
      "image/png": "[encoded data removed]",
      "text/plain": [
       "<Figure size 432x288 with 1 Axes>"
      ]
     },
     "metadata": {},
     "output_type": "display_data"
    }
   ],
   "source": [
    "#question 7\n",
    "#class1\n",
    "class1        = df[df[\"Pclass\"]==1].count()[\"Pclass\"]\n",
    "class1Die     = df[(df[\"Survived\"]==0) & (df[\"Pclass\"]==1)].count()[\"Pclass\"]\n",
    "class1Survive = df[(df[\"Survived\"]==1) & (df[\"Pclass\"]==1)].count()[\"Pclass\"]\n",
    "\n",
    "plt.pie([class1Die,class1Survive],labels= [\"class 1 dieds\",\"class 1 survives\"], autopct='%1.1f%%')\n",
    "plt.show() \n",
    "\n",
    "#class2\n",
    "class2        = df[df[\"Pclass\"]==2].count()[\"Pclass\"]\n",
    "class2Die     = df[(df[\"Survived\"]==0) & (df[\"Pclass\"]==2)].count()[\"Pclass\"]\n",
    "class2Survive = df[(df[\"Survived\"]==1) & (df[\"Pclass\"]==2)].count()[\"Pclass\"]\n",
    "\n",
    "plt.pie([class2Die,class2Survive],labels= [\"class 2 dieds\",\"class 2 survives\"], autopct='%1.1f%%')\n",
    "plt.show() \n",
    "\n",
    "#class3\n",
    "class3        = df[df[\"Pclass\"]==3].count()[\"Pclass\"]\n",
    "class3Die     = df[(df[\"Survived\"]==0) & (df[\"Pclass\"]==3)].count()[\"Pclass\"]\n",
    "class3Survive = df[(df[\"Survived\"]==1) & (df[\"Pclass\"]==3)].count()[\"Pclass\"]\n",
    "\n",
    "plt.pie([class3Die,class3Survive],labels= [\"class 3 dieds\",\"class 3 survives\"], autopct='%1.1f%%')\n",
    "plt.show() "
   ]
  },
  {
   "cell_type": "code",
   "execution_count": 13,
   "id": "d22df2c2",
   "metadata": {},
   "outputs": [
    {
     "data": {
      "image/png": "[encoded data removed]",
      "text/plain": [
       "<Figure size 432x288 with 1 Axes>"
      ]
     },
     "metadata": {
      "needs_background": "light"
     },
     "output_type": "display_data"
    }
   ],
   "source": [
    "#question 8\n",
    "#class1\n",
    "class1        = df[df[\"Pclass\"]==1].count()[\"Pclass\"]\n",
    "class1Die     = df[(df[\"Survived\"]==0) & (df[\"Pclass\"]==1)].count()[\"Pclass\"]/class1\n",
    "class1Survive = df[(df[\"Survived\"]==1) & (df[\"Pclass\"]==1)].count()[\"Pclass\"]/class1\n",
    "\n",
    "#class2\n",
    "class2        = df[df[\"Pclass\"]==2].count()[\"Pclass\"]\n",
    "class2Die     = df[(df[\"Survived\"]==0) & (df[\"Pclass\"]==2)].count()[\"Pclass\"]/class2\n",
    "class2Survive = df[(df[\"Survived\"]==1) & (df[\"Pclass\"]==2)].count()[\"Pclass\"]/class2\n",
    "\n",
    "#class3\n",
    "class3        = df[df[\"Pclass\"]==3].count()[\"Pclass\"]\n",
    "class3Die     = df[(df[\"Survived\"]==0) & (df[\"Pclass\"]==3)].count()[\"Pclass\"]/class3\n",
    "class3Survive = df[(df[\"Survived\"]==1) & (df[\"Pclass\"]==3)].count()[\"Pclass\"]/class3\n",
    "\n",
    "xAxis=[\"class 1\", \"class 2\" ,\"class 3\"]\n",
    "yAxis1=[class1Survive,class2Survive,class3Survive]\n",
    "yAxis2=[class1Die,class2Die,class3Die]\n",
    "\n",
    "plt.bar(xAxis,yAxis1, color=(\"#0fa4f5\"))\n",
    "plt.bar(xAxis,yAxis2,bottom=yAxis1, color=(\"#8f0d0d\"))\n",
    "plt.legend([\"survive rate\",\"dead rate\"])\n",
    "plt.show()\n"
   ]
  },
  {
   "cell_type": "code",
   "execution_count": 14,
   "id": "ef912756",
   "metadata": {},
   "outputs": [],
   "source": [
    "# dead rate increases paralelly with lower class level\n",
    "# i think rich people has reach the resque boats earlier\n",
    "# because most of the rich ones survived"
   ]
  },
  {
   "cell_type": "code",
   "execution_count": 15,
   "id": "da1ba99d",
   "metadata": {},
   "outputs": [
    {
     "data": {
      "text/html": [
       "<div>\n",
       "<style scoped>\n",
       "    .dataframe tbody tr th:only-of-type {\n",
       "        vertical-align: middle;\n",
       "    }\n",
       "\n",
       "    .dataframe tbody tr th {\n",
       "        vertical-align: top;\n",
       "    }\n",
       "\n",
       "    .dataframe thead th {\n",
       "        text-align: right;\n",
       "    }\n",
       "</style>\n",
       "<table border=\"1\" class=\"dataframe\">\n",
       "  <thead>\n",
       "    <tr style=\"text-align: right;\">\n",
       "      <th>Survived</th>\n",
       "      <th>0</th>\n",
       "      <th>1</th>\n",
       "      <th>All</th>\n",
       "    </tr>\n",
       "    <tr>\n",
       "      <th>Sex</th>\n",
       "      <th></th>\n",
       "      <th></th>\n",
       "      <th></th>\n",
       "    </tr>\n",
       "  </thead>\n",
       "  <tbody>\n",
       "    <tr>\n",
       "      <th>female</th>\n",
       "      <td>81</td>\n",
       "      <td>233</td>\n",
       "      <td>314</td>\n",
       "    </tr>\n",
       "    <tr>\n",
       "      <th>male</th>\n",
       "      <td>468</td>\n",
       "      <td>109</td>\n",
       "      <td>577</td>\n",
       "    </tr>\n",
       "    <tr>\n",
       "      <th>All</th>\n",
       "      <td>549</td>\n",
       "      <td>342</td>\n",
       "      <td>891</td>\n",
       "    </tr>\n",
       "  </tbody>\n",
       "</table>\n",
       "</div>"
      ],
      "text/plain": [
       "Survived    0    1  All\n",
       "Sex                    \n",
       "female     81  233  314\n",
       "male      468  109  577\n",
       "All       549  342  891"
      ]
     },
     "execution_count": 15,
     "metadata": {},
     "output_type": "execute_result"
    }
   ],
   "source": [
    "#question 9\n",
    "pd.crosstab(df.Sex,df.Survived,margins=True)"
   ]
  },
  {
   "cell_type": "code",
   "execution_count": 16,
   "id": "edbb0aaa",
   "metadata": {},
   "outputs": [
    {
     "data": {
      "image/png": "[encoded data removed]",
      "text/plain": [
       "<Figure size 432x288 with 1 Axes>"
      ]
     },
     "metadata": {
      "needs_background": "light"
     },
     "output_type": "display_data"
    }
   ],
   "source": [
    "#question 10\n",
    "df10=df.dropna(subset=[\"Embarked\"])\n",
    "\n",
    "survivedQ   = df10[(df10[\"Survived\"]==1) & (df10[\"Embarked\"]==\"Q\")][\"Embarked\"].count()\n",
    "survivedS   = df10[(df10[\"Survived\"]==1) & (df10[\"Embarked\"]==\"S\")][\"Embarked\"].count()\n",
    "survivedC   = df10[(df10[\"Survived\"]==1) & (df10[\"Embarked\"]==\"C\")][\"Embarked\"].count()\n",
    "\n",
    "allQ   = df10[(df10[\"Embarked\"]==\"Q\")][\"Embarked\"].count()\n",
    "allS   = df10[(df10[\"Embarked\"]==\"S\")][\"Embarked\"].count()\n",
    "allC   = df10[(df10[\"Embarked\"]==\"C\")][\"Embarked\"].count()\n",
    "\n",
    "labels=[\"Q\",\"S\",\"C\"]\n",
    "survived=[survivedQ,survivedS,survivedC]\n",
    "dead=[ (allQ-survivedQ) ,(allS-survivedS) , (allC-survivedC)]\n",
    "\n",
    "x=np.arange(3)+1\n",
    "fig,ax = plt.subplots()\n",
    "rects1 = ax.bar(x-0.2, survived ,0.4 ,label='Survived')\n",
    "rects2 = ax.bar(x+0.2, dead     ,0.4 ,label='Did not survived')\n",
    "\n",
    "plt.xticks(x, ['Queenstown', 'Southampton', 'Cherbourg'])\n",
    "ax.set_title('Survivals according to Embarked')\n",
    "plt.legend()\n",
    "plt.show()\n",
    "# there is no unexpected situtation. but was Cherbourg people lucky. i don't think so\n",
    "# might they act wise at the collison moment or they more durable to cold weather"
   ]
  },
  {
   "cell_type": "code",
   "execution_count": 17,
   "id": "b947a890",
   "metadata": {},
   "outputs": [
    {
     "data": {
      "text/html": [
       "<div>\n",
       "<style scoped>\n",
       "    .dataframe tbody tr th:only-of-type {\n",
       "        vertical-align: middle;\n",
       "    }\n",
       "\n",
       "    .dataframe tbody tr th {\n",
       "        vertical-align: top;\n",
       "    }\n",
       "\n",
       "    .dataframe thead th {\n",
       "        text-align: right;\n",
       "    }\n",
       "</style>\n",
       "<table border=\"1\" class=\"dataframe\">\n",
       "  <thead>\n",
       "    <tr style=\"text-align: right;\">\n",
       "      <th></th>\n",
       "      <th>AgeGrouped</th>\n",
       "      <th>adult</th>\n",
       "      <th>child</th>\n",
       "      <th>old</th>\n",
       "      <th>All</th>\n",
       "    </tr>\n",
       "    <tr>\n",
       "      <th>Sex</th>\n",
       "      <th>Survived</th>\n",
       "      <th></th>\n",
       "      <th></th>\n",
       "      <th></th>\n",
       "      <th></th>\n",
       "    </tr>\n",
       "  </thead>\n",
       "  <tbody>\n",
       "    <tr>\n",
       "      <th rowspan=\"2\" valign=\"top\">female</th>\n",
       "      <th>0</th>\n",
       "      <td>42</td>\n",
       "      <td>22</td>\n",
       "      <td>0</td>\n",
       "      <td>64</td>\n",
       "    </tr>\n",
       "    <tr>\n",
       "      <th>1</th>\n",
       "      <td>148</td>\n",
       "      <td>46</td>\n",
       "      <td>3</td>\n",
       "      <td>197</td>\n",
       "    </tr>\n",
       "    <tr>\n",
       "      <th rowspan=\"2\" valign=\"top\">male</th>\n",
       "      <th>0</th>\n",
       "      <td>296</td>\n",
       "      <td>47</td>\n",
       "      <td>17</td>\n",
       "      <td>360</td>\n",
       "    </tr>\n",
       "    <tr>\n",
       "      <th>1</th>\n",
       "      <td>67</td>\n",
       "      <td>24</td>\n",
       "      <td>2</td>\n",
       "      <td>93</td>\n",
       "    </tr>\n",
       "    <tr>\n",
       "      <th>All</th>\n",
       "      <th></th>\n",
       "      <td>553</td>\n",
       "      <td>139</td>\n",
       "      <td>22</td>\n",
       "      <td>714</td>\n",
       "    </tr>\n",
       "  </tbody>\n",
       "</table>\n",
       "</div>"
      ],
      "text/plain": [
       "AgeGrouped       adult  child  old  All\n",
       "Sex    Survived                        \n",
       "female 0            42     22    0   64\n",
       "       1           148     46    3  197\n",
       "male   0           296     47   17  360\n",
       "       1            67     24    2   93\n",
       "All                553    139   22  714"
      ]
     },
     "execution_count": 17,
     "metadata": {},
     "output_type": "execute_result"
    }
   ],
   "source": [
    "#question 11\n",
    "def func(series):\n",
    "    tempSeries=[]\n",
    "    for i in list(series):\n",
    "        if i<=18: tempSeries.append(\"child\") \n",
    "        elif i>18 and i<=60: tempSeries.append(\"adult\")\n",
    "        elif i>60 :tempSeries.append(\"old\")\n",
    "        else :tempSeries.append(\"nan\")\n",
    "    return tempSeries\n",
    "    \n",
    "df2 = df.dropna(subset=[\"Age\"])# just useable  that question includes Cabin Age Embarked \n",
    "#indexes = df2.index\n",
    "AgeGrouped = func(df2[\"Age\"])\n",
    "df3=df2.loc[:,[\"Sex\",\"Survived\",\"Age\"]]\n",
    "df3[\"AgeGrouped\"]=AgeGrouped\n",
    "pd.crosstab([df3.Sex,df3.Survived],df3.AgeGrouped,margins=True)"
   ]
  },
  {
   "cell_type": "code",
   "execution_count": 18,
   "id": "f854324b",
   "metadata": {},
   "outputs": [],
   "source": [
    "# adult males death most. i think they put himself in danger to save their wifes or childs life"
   ]
  },
  {
   "cell_type": "code",
   "execution_count": 19,
   "id": "95bcfbfd",
   "metadata": {
    "scrolled": true
   },
   "outputs": [
    {
     "name": "stdout",
     "output_type": "stream",
     "text": [
      "             Survived\n",
      "Survived     1.000000\n",
      "Sex          0.538826\n",
      "Fare         0.268189\n",
      "Parch        0.093317\n",
      "PassengerId  0.029340\n",
      "SibSp       -0.017358\n",
      "Age         -0.077221\n",
      "Pclass      -0.359653\n",
      "Index(['Survived'], dtype='object')\n"
     ]
    },
    {
     "data": {
      "image/png": "[encoded data removed]",
      "text/plain": [
       "<Figure size 432x288 with 2 Axes>"
      ]
     },
     "metadata": {
      "needs_background": "light"
     },
     "output_type": "display_data"
    }
   ],
   "source": [
    "#question 12\n",
    "df12 = df.drop([\"Name\"],axis=1)\n",
    "df12 = df12.dropna(subset=[\"Age\"])\n",
    "\n",
    "df12['Sex'] = df12['Sex'].replace(regex='female', value=1)\n",
    "df12['Sex'] = df12['Sex'].replace(regex='male', value=0)\n",
    "\n",
    "x=df12.corr()[['Survived']].sort_values(by='Survived',ascending=False)\n",
    "print(x)\n",
    "\n",
    "df12v2 = df12.drop([\"Age\",\"Parch\",\"PassengerId\",\"SibSp\"],axis=1)\n",
    "y=df12v2.corr()[['Survived']].sort_values(by='Survived',ascending=False)\n",
    "print(y.columns[0:])\n",
    "\n",
    "heatmap= sns.heatmap(y,vmin=-1,vmax=1,annot=True)"
   ]
  },
  {
   "cell_type": "code",
   "execution_count": null,
   "id": "cf401340",
   "metadata": {},
   "outputs": [],
   "source": []
  },
  {
   "cell_type": "code",
   "execution_count": 20,
   "id": "8488a59a",
   "metadata": {},
   "outputs": [
    {
     "name": "stdout",
     "output_type": "stream",
     "text": [
      "Mr.    517\n",
      "dtype: int64\n",
      "Mr.          517\n",
      "Miss.        182\n",
      "Mrs.         125\n",
      "Master.       40\n",
      "Dr.            7\n",
      "Rev.           6\n",
      "Mlle.          2\n",
      "Major.         2\n",
      "Col.           2\n",
      "Mme.           1\n",
      "Jonkheer.      1\n",
      "Sir.           1\n",
      "Lady.          1\n",
      "the            1\n",
      "Capt.          1\n",
      "Ms.            1\n",
      "Don.           1\n",
      "dtype: int64\n"
     ]
    }
   ],
   "source": [
    "#question 13\n",
    "names=list(df.Name)\n",
    "names= [i.split(\",\")[1].split()[0].strip() for i in names]\n",
    "\n",
    "namesSerie=pd.Series(names)\n",
    "x=namesSerie.value_counts()\n",
    "print(x.head(1))\n",
    "print(x)"
   ]
  },
  {
   "cell_type": "code",
   "execution_count": 21,
   "id": "6deb5aaf",
   "metadata": {},
   "outputs": [
    {
     "name": "stdout",
     "output_type": "stream",
     "text": [
      "Mr.          517\n",
      "Miss.        182\n",
      "Mrs.         125\n",
      "Master.       40\n",
      "Dr.            7\n",
      "Rev.           6\n",
      "Mlle.          2\n",
      "Major.         2\n",
      "Col.           2\n",
      "Mme.           1\n",
      "Jonkheer.      1\n",
      "Sir.           1\n",
      "Lady.          1\n",
      "the            1\n",
      "Capt.          1\n",
      "Ms.            1\n",
      "Don.           1\n",
      "dtype: int64\n",
      "17 diffrent titles\n"
     ]
    }
   ],
   "source": [
    "#question 14\n",
    "print(x)\n",
    "print(x.size, \"diffrent titles\")\n"
   ]
  },
  {
   "cell_type": "code",
   "execution_count": 22,
   "id": "b95e8e72",
   "metadata": {},
   "outputs": [
    {
     "name": "stdout",
     "output_type": "stream",
     "text": [
      "average age is  29.69911764705882\n"
     ]
    }
   ],
   "source": [
    "#question 15\n",
    "print(\"average age is \",df[\"Age\"].sum()/df[\"Age\"].count())"
   ]
  },
  {
   "cell_type": "code",
   "execution_count": 23,
   "id": "f8382bd3",
   "metadata": {},
   "outputs": [
    {
     "data": {
      "image/png": "[encoded data removed]",
      "text/plain": [
       "<Figure size 432x288 with 1 Axes>"
      ]
     },
     "metadata": {
      "needs_background": "light"
     },
     "output_type": "display_data"
    }
   ],
   "source": [
    "#question 16\n",
    "\n",
    "ax = sns.stripplot(x=\"Survived\",y=\"Age\",data=df,linewidth=1)"
   ]
  },
  {
   "cell_type": "code",
   "execution_count": 24,
   "id": "5fd33831",
   "metadata": {},
   "outputs": [
    {
     "name": "stdout",
     "output_type": "stream",
     "text": [
      "the oldest person which survived is 80.0  years old\n"
     ]
    }
   ],
   "source": [
    "#question 17\n",
    "print(\"the oldest person which survived is\",df[df[\"Survived\"]==1][\"Age\"].max(),\" years old\")"
   ]
  },
  {
   "cell_type": "code",
   "execution_count": 25,
   "id": "d623098b",
   "metadata": {},
   "outputs": [
    {
     "data": {
      "image/png": "[encoded data removed]",
      "text/plain": [
       "<Figure size 432x288 with 1 Axes>"
      ]
     },
     "metadata": {},
     "output_type": "display_data"
    },
    {
     "data": {
      "image/png": "[encoded data removed]",
      "text/plain": [
       "<Figure size 432x288 with 1 Axes>"
      ]
     },
     "metadata": {},
     "output_type": "display_data"
    },
    {
     "data": {
      "image/png": "[encoded data removed]",
      "text/plain": [
       "<Figure size 432x288 with 1 Axes>"
      ]
     },
     "metadata": {},
     "output_type": "display_data"
    }
   ],
   "source": [
    "#question 18 and 19\n",
    "oldS   = df3[(df3[\"Survived\"]==1) & (df3[\"AgeGrouped\"]==\"old\")][\"AgeGrouped\"].count()\n",
    "adultS = df3[(df3[\"Survived\"]==1) & (df3[\"AgeGrouped\"]==\"adult\")][\"AgeGrouped\"].count()\n",
    "childS = df3[(df3[\"Survived\"]==1) & (df3[\"AgeGrouped\"]==\"child\")][\"AgeGrouped\"].count()\n",
    "\n",
    "old   = df3[(df3[\"AgeGrouped\"]==\"old\")][\"AgeGrouped\"].count()\n",
    "adult = df3[(df3[\"AgeGrouped\"]==\"adult\")][\"AgeGrouped\"].count()\n",
    "child = df3[(df3[\"AgeGrouped\"]==\"child\")][\"AgeGrouped\"].count()\n",
    "\n",
    "plt.pie([oldS,old-oldS],labels=[\"old survived\",\"old did not survived\"],autopct='%1.1f%%')\n",
    "plt.show()\n",
    "\n",
    "plt.pie([adultS,adult-adultS],labels=[\"adult survived\",\"adult did not survived\"],autopct='%1.1f%%')\n",
    "plt.show()\n",
    "\n",
    "plt.pie([childS,child-childS],labels=[\"child survived\",\"child did not survived\"],autopct='%1.1f%%')\n",
    "plt.show()"
   ]
  },
  {
   "cell_type": "code",
   "execution_count": 26,
   "id": "084a22b1",
   "metadata": {},
   "outputs": [],
   "source": [
    "# firstly old people die most. i think they never resist cold water or they was not swim well like a younger\n",
    "# adults die more than children but there are few children according to adults\n",
    "# i think adults had tried to save their kids\n",
    "# as a result of that kids survived most"
   ]
  },
  {
   "cell_type": "code",
   "execution_count": 27,
   "id": "32e22433",
   "metadata": {},
   "outputs": [
    {
     "data": {
      "text/plain": [
       "8"
      ]
     },
     "execution_count": 27,
     "metadata": {},
     "output_type": "execute_result"
    }
   ],
   "source": [
    "#question 20\n",
    "df.SibSp.max()"
   ]
  }
 ],
 "metadata": {
  "kernelspec": {
   "display_name": "Python 3",
   "language": "python",
   "name": "python3"
  },
  "language_info": {
   "codemirror_mode": {
    "name": "ipython",
    "version": 3
   },
   "file_extension": ".py",
   "mimetype": "text/x-python",
   "name": "python",
   "nbconvert_exporter": "python",
   "pygments_lexer": "ipython3",
   "version": "3.8.8"
  }
 },
 "nbformat": 4,
 "nbformat_minor": 5
}
